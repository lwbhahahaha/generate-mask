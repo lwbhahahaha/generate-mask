{
 "cells": [
  {
   "attachments": {},
   "cell_type": "markdown",
   "metadata": {},
   "source": [
    "# Generate Mask Core\n",
    "This notebook passed test on 16 samples on MacOS, with Julia 1.8.5.\n",
    "\n",
    "**Insturction**:\n",
    "1. Put images to the `input` folder;\n",
    "2. Run all;  \n",
    "\n",
    "Resutls are saved to `output` folder."
   ]
  },
  {
   "attachments": {},
   "cell_type": "markdown",
   "metadata": {},
   "source": [
    "# Functions"
   ]
  },
  {
   "attachments": {},
   "cell_type": "markdown",
   "metadata": {},
   "source": [
    "## `locate_cup_center_and_radius(..)`\n",
    "This function takes in:\n",
    "- img: the image;\n",
    "And returns the center coordinate and radius of cup."
   ]
  },
  {
   "cell_type": "code",
   "execution_count": 11,
   "metadata": {},
   "outputs": [
    {
     "data": {
      "text/plain": [
       "locate_cup_center_and_radius (generic function with 1 method)"
      ]
     },
     "metadata": {},
     "output_type": "display_data"
    }
   ],
   "source": [
    "function locate_cup_center_and_radius(img)\n",
    "    img_filtered = mapwindow(median, img, (5,5))\n",
    "    img_filtered = imfilter(img_filtered, Kernel.gaussian(19))\n",
    "    img_filtered = imfilter(img_filtered, Kernel.gaussian(17))\n",
    "    img_edges = canny(img_filtered, (ImageFeatures.Percentile(99), ImageFeatures.Percentile(0)))\n",
    "    dx, dy=imgradients(img_filtered, KernelFactors.ando5)\n",
    "    img_phase = phase(dx, dy)\n",
    "    centers, radii = hough_circle_gradient(img_edges, img_phase, 450:675)\n",
    "    if size(centers)[1] == 1\n",
    "        return centers[1], radii[1], img_filtered, img_edges\n",
    "    else\n",
    "        return \"Error\"\n",
    "    end\n",
    "end"
   ]
  },
  {
   "attachments": {},
   "cell_type": "markdown",
   "metadata": {},
   "source": [
    "## `locate_tubes(..)`  \n",
    "This function takes in:\n",
    "- img: the image;\n",
    "- r: radius of cup;\n",
    "- center_row: 1st dim of center coordinate;\n",
    "- center_col: 2nd dim of center coordinate;  \n",
    "\n",
    "And returns the all centers and radius for found tubes."
   ]
  },
  {
   "cell_type": "code",
   "execution_count": 12,
   "metadata": {},
   "outputs": [
    {
     "data": {
      "text/plain": [
       "locate_tubes (generic function with 1 method)"
      ]
     },
     "metadata": {},
     "output_type": "display_data"
    }
   ],
   "source": [
    "function locate_tubes(img, r, center_row, center_col)\n",
    "    # size of kernel\n",
    "    x = round(-24.2366 + 0.0715 * r)\n",
    "    x -= (x+1)%2\n",
    "    # filter\n",
    "    img_filtered = mapwindow(median, img, (5,5))\n",
    "    img_filtered = imfilter(img_filtered, Kernel.gaussian(x))\n",
    "    img_filtered = imfilter(img_filtered, Kernel.gaussian(x-2))\n",
    "    # detect edge\n",
    "    img_edges = canny(img_filtered, (ImageFeatures.Percentile(99), ImageFeatures.Percentile(0)))\n",
    "    # cropping\n",
    "    r_2 = r * r\n",
    "    Threads.@threads for i in CartesianIndices(img_edges)\n",
    "        r, c = i[1], i[2]\n",
    "        d_2 = (r - center_row)^2 + (c - center_col)^2\n",
    "        if d_2 > r_2 || d_2 <= 10000\n",
    "            img_edges[i] = 0\n",
    "        end\n",
    "    end\n",
    "    # detect circles\n",
    "    dx, dy=imgradients(img_filtered, KernelFactors.ando5)\n",
    "    img_phase = phase(dx, dy)\n",
    "    centers, radii = hough_circle_gradient(img_edges, img_phase, 40:60)\n",
    "    return centers, radii, img_edges\n",
    "end"
   ]
  },
  {
   "attachments": {},
   "cell_type": "markdown",
   "metadata": {},
   "source": [
    "## `trim_img(..)`\n",
    "This function takes in:\n",
    "- `img`: the image;\n",
    "- `cup_r`: radius of cup;\n",
    "- `cup_center_row`: 1st dim of center coordinate of cup;\n",
    "- `cup_center_col`: 2nd dim of center coordinate of cup;\n",
    "- `tube_centers`: the centers of tubes;\n",
    "- (optional, default = 80) `tube_trim_r`: the radius to crop each tube from `img`;  \n",
    "\n",
    "And returns the cropped image."
   ]
  },
  {
   "cell_type": "code",
   "execution_count": 19,
   "metadata": {},
   "outputs": [
    {
     "data": {
      "text/plain": [
       "trim_img (generic function with 1 method)"
      ]
     },
     "metadata": {},
     "output_type": "display_data"
    }
   ],
   "source": [
    "function trim_img(img, cup_r, cup_center_row, cup_center_col, tube_centers; tube_trim_r = 80)\n",
    "    mask_value = minimum(img)\n",
    "    output = deepcopy(img)\n",
    "    cup_r_2 = cup_r * cup_r\n",
    "    tube_r_2 = tube_trim_r * tube_trim_r\n",
    "    Threads.@threads for i in CartesianIndices(output)\n",
    "        r, c = i[1], i[2]\n",
    "        if ((r - cup_center_row)^2 + (c - cup_center_col)^2) > cup_r_2\n",
    "            # trim background\n",
    "            output[i] = mask_value\n",
    "        else\n",
    "            # trim tubes\n",
    "            for center in tube_centers \n",
    "                if ((r - center[1])^2 + (c - center[2])^2) <= tube_r_2\n",
    "                    output[i] = mask_value\n",
    "                end\n",
    "            end\n",
    "        end\n",
    "    end    \n",
    "    # rearrage all pixel values\n",
    "    output = output .- mask_value\n",
    "    return output\n",
    "end"
   ]
  },
  {
   "attachments": {},
   "cell_type": "markdown",
   "metadata": {},
   "source": [
    "# Set up project"
   ]
  },
  {
   "cell_type": "code",
   "execution_count": 24,
   "metadata": {},
   "outputs": [
    {
     "name": "stderr",
     "output_type": "stream",
     "text": [
      "\u001b[32m\u001b[1m  Activating\u001b[22m\u001b[39m project at `~/Desktop/Ct correction`\n"
     ]
    }
   ],
   "source": [
    "using Pkg\n",
    "Pkg.activate(\".\")\n",
    "Pkg.instantiate()\n",
    "using DICOM\n",
    "using Plots\n",
    "using Images\n",
    "using CairoMakie\n",
    "using Statistics\n",
    "using Polynomials\n",
    "using ProgressBars\n",
    "using Base.Threads\n",
    "using ImageFeatures\n",
    "using ImageFiltering\n",
    "using ImageEdgeDetection"
   ]
  },
  {
   "attachments": {},
   "cell_type": "markdown",
   "metadata": {},
   "source": [
    "# Run"
   ]
  },
  {
   "cell_type": "code",
   "execution_count": 25,
   "metadata": {},
   "outputs": [
    {
     "data": {
      "text/plain": [
       "run! (generic function with 1 method)"
      ]
     },
     "metadata": {},
     "output_type": "display_data"
    }
   ],
   "source": [
    "function run!()\n",
    "    println(\"Started...\")\n",
    "    # read input folder\n",
    "    imgs = []\n",
    "    paths = readdir(\"input/\", join = true)\n",
    "    for path in paths\n",
    "        if isfile(path) && endswith(path, \".slice\")\n",
    "            push!(imgs, (path, dcm_parse(path)))\n",
    "        end\n",
    "    end\n",
    "    println(\"\\tFound $(size(imgs)[1]) images...\")\n",
    "    failure_ct = 0\n",
    "    ct = size(imgs)[1]\n",
    "    Threads.@threads for i = ProgressBar(1 : ct)\n",
    "        path, dcm_data = imgs[i]\n",
    "        img = dcm_data[(0x7fe0, 0x0010)]\n",
    "        result = locate_cup_center_and_radius(img)\n",
    "        if typeof(result) <: String\n",
    "            println(\"\\tFailed to locate the cup: [$path]\")\n",
    "            failure_ct += 1\n",
    "        else\n",
    "            center, r, img_filtered, img_edges = result\n",
    "            r = r * 0.9\n",
    "            center_row, center_col = center[1], center[2]\n",
    "            centers, tube_rs, debug = locate_tubes(img, r, center_row, center_col)\n",
    "            if size(centers)[1] == 0\n",
    "                println(\"\\tFailed to locate tubes: [$path]\")\n",
    "                failure_ct += 1\n",
    "            else\n",
    "                output = trim_img(img, r, center_row, center_col, centers; tube_trim_r = maximum(tube_rs) * 1.25)\n",
    "                # Plots.heatmap(output)\n",
    "                dcm_data[(0x7fe0, 0x0010)] = output\n",
    "                path = \"filtered_\" * basename(path)\n",
    "                dcm_write(joinpath([\"output/\", path]), dcm_data)\n",
    "            end\n",
    "        end\n",
    "    end\n",
    "    println(\"Finished processing $(size(imgs)[1]) images. $failure_ct Failed.\")\n",
    "end"
   ]
  },
  {
   "cell_type": "code",
   "execution_count": 26,
   "metadata": {},
   "outputs": [
    {
     "name": "stdout",
     "output_type": "stream",
     "text": [
      "Started...\n"
     ]
    },
    {
     "name": "stdout",
     "output_type": "stream",
     "text": [
      "\tFound 16 images...\n"
     ]
    },
    {
     "name": "stderr",
     "output_type": "stream",
     "text": [
      "\r0.0%┣                                               ┫ 0/16 [00:00<00:-1, -0s/it]\n",
      "\u001b[1A\r0.0%┣                                               ┫ 0/16 [00:00<00:-1, -0s/it]\n",
      "\u001b[1A\r0.0%┣                                               ┫ 0/16 [00:00<00:-1, -0s/it]\n",
      "\u001b[1A\r6.2%┣██▊                                        ┫ 1/16 [00:00<Inf:Inf, InfGs/it]\n",
      "\u001b[1A\r0.0%┣                                               ┫ 0/16 [00:00<00:-1, -0s/it]\n"
     ]
    },
    {
     "name": "stderr",
     "output_type": "stream",
     "text": [
      "\u001b[1A\r18.8%┣████████▋                                     ┫ 3/16 [00:20<02:09, 10s/it]\n"
     ]
    },
    {
     "name": "stderr",
     "output_type": "stream",
     "text": [
      "\u001b[1A\r25.0%┣███████████▊                                   ┫ 4/16 [00:21<01:22, 7s/it]\n"
     ]
    },
    {
     "name": "stderr",
     "output_type": "stream",
     "text": [
      "\u001b[1A\r43.8%┣████████████████████▋                          ┫ 7/16 [00:33<00:49, 5s/it]\n"
     ]
    },
    {
     "name": "stderr",
     "output_type": "stream",
     "text": [
      "\u001b[1A\r50.0%┣███████████████████████▌                       ┫ 8/16 [00:34<00:39, 5s/it]\n"
     ]
    },
    {
     "name": "stderr",
     "output_type": "stream",
     "text": [
      "\u001b[1A\r68.8%┣███████████████████████████████▋              ┫ 11/16 [00:47<00:23, 5s/it]\n"
     ]
    },
    {
     "name": "stderr",
     "output_type": "stream",
     "text": [
      "\u001b[1A\r75.0%┣██████████████████████████████████▌           ┫ 12/16 [00:48<00:17, 4s/it]\n"
     ]
    },
    {
     "name": "stdout",
     "output_type": "stream",
     "text": [
      "Finished processing 16 images. 0 Failed.\n"
     ]
    }
   ],
   "source": [
    "run!()"
   ]
  }
 ],
 "metadata": {
  "kernelspec": {
   "display_name": "Julia 1.8.5",
   "language": "julia",
   "name": "julia-1.8"
  },
  "language_info": {
   "file_extension": ".jl",
   "mimetype": "application/julia",
   "name": "julia",
   "version": "1.8.5"
  },
  "orig_nbformat": 4
 },
 "nbformat": 4,
 "nbformat_minor": 2
}
