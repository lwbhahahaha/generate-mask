{
 "cells": [
  {
   "cell_type": "code",
   "execution_count": 9,
   "metadata": {},
   "outputs": [
    {
     "name": "stderr",
     "output_type": "stream",
     "text": [
      "\u001b[32m\u001b[1m  Activating\u001b[22m\u001b[39m project at `~/Desktop/Ct correction`\n"
     ]
    },
    {
     "name": "stdout",
     "output_type": "stream",
     "text": [
      "\t*** Instruction ***\n",
      "\t\n",
      "\t1. Put images to the `input` folder;\n",
      "\t2. Call `run!()`.\n",
      "\n",
      "\tProcess Mode:\n",
      "\t1: single images;\n",
      "\t2: dual images;\n",
      "\n",
      "\tOutput Mode:\n",
      "\t1: Mix modes\n",
      "\t2: All to tif\n",
      "\t3: All to .Slice(DICOM)\n",
      "\t\n",
      "\tResutls are saved to `output` folder.\n"
     ]
    }
   ],
   "source": [
    "include(\"generate_mask_core.jl\") # DO NOT MODIFY"
   ]
  },
  {
   "cell_type": "code",
   "execution_count": 12,
   "metadata": {},
   "outputs": [
    {
     "name": "stdout",
     "output_type": "stream",
     "text": [
      "Process Mode = 0\n",
      "Output Mode = 0\n",
      "Loading images...\n"
     ]
    },
    {
     "name": "stdout",
     "output_type": "stream",
     "text": [
      "\tFound 16 DICOM image(s) and 4 TIFF image(s).\n"
     ]
    },
    {
     "data": {
      "text/plain": [
       "(Any[(\"input/recon_2_10_evens_D_3Hz_high_0024.slice.tif\", Gray{N0f16}[Gray{N0f16}(0.50001) Gray{N0f16}(0.50001) … Gray{N0f16}(0.50001) Gray{N0f16}(0.50001); Gray{N0f16}(0.50001) Gray{N0f16}(0.50001) … Gray{N0f16}(0.50001) Gray{N0f16}(0.50001); … ; Gray{N0f16}(0.50001) Gray{N0f16}(0.50001) … Gray{N0f16}(0.50001) Gray{N0f16}(0.50001); Gray{N0f16}(0.50001) Gray{N0f16}(0.50001) … Gray{N0f16}(0.50001) Gray{N0f16}(0.50001)]), (\"input/recon_2_10_evens_D_3Hz_low_0024.slice.tif\", Gray{N0f16}[Gray{N0f16}(0.50001) Gray{N0f16}(0.50001) … Gray{N0f16}(0.50001) Gray{N0f16}(0.50001); Gray{N0f16}(0.50001) Gray{N0f16}(0.50001) … Gray{N0f16}(0.50001) Gray{N0f16}(0.50001); … ; Gray{N0f16}(0.50001) Gray{N0f16}(0.50001) … Gray{N0f16}(0.50001) Gray{N0f16}(0.50001); Gray{N0f16}(0.50001) Gray{N0f16}(0.50001) … Gray{N0f16}(0.50001) Gray{N0f16}(0.50001)]), (\"input/recon_6mGy_8cm_7_11_high.tif\", Gray{N0f16}[Gray{N0f16}(0.50001) Gray{N0f16}(0.50001) … Gray{N0f16}(0.50001) Gray{N0f16}(0.50001); Gray{N0f16}(0.50001) Gray{N0f16}(0.50001) … Gray{N0f16}(0.50001) Gray{N0f16}(0.50001); … ; Gray{N0f16}(0.50001) Gray{N0f16}(0.50001) … Gray{N0f16}(0.50001) Gray{N0f16}(0.50001); Gray{N0f16}(0.50001) Gray{N0f16}(0.50001) … Gray{N0f16}(0.50001) Gray{N0f16}(0.50001)]), (\"input/recon_6mGy_8cm_7_11_low.tif\", Gray{N0f16}[Gray{N0f16}(0.50001) Gray{N0f16}(0.50001) … Gray{N0f16}(0.50001) Gray{N0f16}(0.50001); Gray{N0f16}(0.50001) Gray{N0f16}(0.50001) … Gray{N0f16}(0.50001) Gray{N0f16}(0.50001); … ; Gray{N0f16}(0.50001) Gray{N0f16}(0.50001) … Gray{N0f16}(0.50001) Gray{N0f16}(0.50001); Gray{N0f16}(0.50001) Gray{N0f16}(0.50001) … Gray{N0f16}(0.50001) Gray{N0f16}(0.50001)])], Any[(\"input/recon_12_16_6mGy_high_0024.slice\", DICOM.DICOMData(Dict{Tuple{UInt16, UInt16}, Any}((0x0010, 0x0010) => [\"12_16_6mGy_high Users\", \"zhan7\", \"Desktop \"], (0x0008, 0x0030) => \"121635\", (0x0028, 0x0100) => 0x0010, (0x0020, 0x0052) => \"1.2.826.0.1.3680043.2.855.1674591395.1\", (0x0008, 0x1030) => \"DESCRIPTION\", (0x0002, 0x0001) => UInt8[0x00, 0x01], (0x0020, 0x0037) => [1.0, 0.0, 0.0, 0.0, 1.0, 0.0], (0x0018, 0x5100) => \"HFS\", (0x7fe0, 0x0000) => 0x00b2220c, (0x0002, 0x0012) => \"1.2.276.0.7230010.3.0.3.5.4\"…), :little, true, Dict{Tuple{UInt16, UInt16}, String}((0x0010, 0x0010) => \"PN\", (0x0008, 0x0030) => \"TM\", (0x0028, 0x0100) => \"US\", (0x0020, 0x0052) => \"UI\", (0x0008, 0x1030) => \"LO\", (0x0020, 0x0037) => \"DS\", (0x0018, 0x5100) => \"CS\", (0x7fe0, 0x0000) => \"UL\", (0x0018, 0x0000) => \"UL\", (0x0008, 0x0000) => \"UL\"…))), (\"input/recon_12_20_evens_D_3Hz_high_0024.slice\", DICOM.DICOMData(Dict{Tuple{UInt16, UInt16}, Any}((0x0010, 0x0010) => [\"raw_12_20_evens_D_3Hz_high Users\", \"zhan7\", \"Desktop\"], (0x0008, 0x0030) => \"231422\", (0x0028, 0x0100) => 0x0010, (0x0020, 0x0052) => \"1.2.826.0.1.3680043.2.855.1674285262.1\", (0x0008, 0x1030) => \"DESCRIPTION\", (0x0002, 0x0001) => UInt8[0x00, 0x01], (0x0020, 0x0037) => [1.0, 0.0, 0.0, 0.0, 1.0, 0.0], (0x0018, 0x5100) => \"HFS\", (0x7fe0, 0x0000) => 0x00b2220c, (0x0002, 0x0012) => \"1.2.276.0.7230010.3.0.3.5.4\"…), :little, true, Dict{Tuple{UInt16, UInt16}, String}((0x0010, 0x0010) => \"PN\", (0x0008, 0x0030) => \"TM\", (0x0028, 0x0100) => \"US\", (0x0020, 0x0052) => \"UI\", (0x0008, 0x1030) => \"LO\", (0x0020, 0x0037) => \"DS\", (0x0018, 0x5100) => \"CS\", (0x7fe0, 0x0000) => \"UL\", (0x0018, 0x0000) => \"UL\", (0x0008, 0x0000) => \"UL\"…))), (\"input/recon_12_20_evens_D_3Hz_low_0024.slice\", DICOM.DICOMData(Dict{Tuple{UInt16, UInt16}, Any}((0x0010, 0x0010) => [\"raw_12_20_evens_D_3Hz_low Users\", \"zhan7\", \"Desktop \"], (0x0008, 0x0030) => \"231509\", (0x0028, 0x0100) => 0x0010, (0x0020, 0x0052) => \"1.2.826.0.1.3680043.2.855.1674285309.1\", (0x0008, 0x1030) => \"DESCRIPTION\", (0x0002, 0x0001) => UInt8[0x00, 0x01], (0x0020, 0x0037) => [1.0, 0.0, 0.0, 0.0, 1.0, 0.0], (0x0018, 0x5100) => \"HFS\", (0x7fe0, 0x0000) => 0x00b2220c, (0x0002, 0x0012) => \"1.2.276.0.7230010.3.0.3.5.4\"…), :little, true, Dict{Tuple{UInt16, UInt16}, String}((0x0010, 0x0010) => \"PN\", (0x0008, 0x0030) => \"TM\", (0x0028, 0x0100) => \"US\", (0x0020, 0x0052) => \"UI\", (0x0008, 0x1030) => \"LO\", (0x0020, 0x0037) => \"DS\", (0x0018, 0x5100) => \"CS\", (0x7fe0, 0x0000) => \"UL\", (0x0018, 0x0000) => \"UL\", (0x0008, 0x0000) => \"UL\"…))), (\"input/recon_17_20_6mGy_low_0024.slice\", DICOM.DICOMData(Dict{Tuple{UInt16, UInt16}, Any}((0x0010, 0x0010) => [\"17_20_6mGy_low Users\", \"zhan7\", \"Desktop\"], (0x0008, 0x0030) => \"121305\", (0x0028, 0x0100) => 0x0010, (0x0020, 0x0052) => \"1.2.826.0.1.3680043.2.855.1674591185.1\", (0x0008, 0x1030) => \"DESCRIPTION\", (0x0002, 0x0001) => UInt8[0x00, 0x01], (0x0020, 0x0037) => [1.0, 0.0, 0.0, 0.0, 1.0, 0.0], (0x0018, 0x5100) => \"HFS\", (0x7fe0, 0x0000) => 0x00b2220c, (0x0002, 0x0012) => \"1.2.276.0.7230010.3.0.3.5.4\"…), :little, true, Dict{Tuple{UInt16, UInt16}, String}((0x0010, 0x0010) => \"PN\", (0x0008, 0x0030) => \"TM\", (0x0028, 0x0100) => \"US\", (0x0020, 0x0052) => \"UI\", (0x0008, 0x1030) => \"LO\", (0x0020, 0x0037) => \"DS\", (0x0018, 0x5100) => \"CS\", (0x7fe0, 0x0000) => \"UL\", (0x0018, 0x0000) => \"UL\", (0x0008, 0x0000) => \"UL\"…))), (\"input/recon_2_10_evens_D_3Hz_high_0024.slice\", DICOM.DICOMData(Dict{Tuple{UInt16, UInt16}, Any}((0x0010, 0x0010) => [\"raw_2_10_evens_D_3Hz_high Users\", \"zhan7\", \"Desktop \"], (0x0008, 0x0030) => \"231232\", (0x0028, 0x0100) => 0x0010, (0x0020, 0x0052) => \"1.2.826.0.1.3680043.2.855.1674285152.1\", (0x0008, 0x1030) => \"DESCRIPTION\", (0x0002, 0x0001) => UInt8[0x00, 0x01], (0x0020, 0x0037) => [1.0, 0.0, 0.0, 0.0, 1.0, 0.0], (0x0018, 0x5100) => \"HFS\", (0x7fe0, 0x0000) => 0x00b2220c, (0x0002, 0x0012) => \"1.2.276.0.7230010.3.0.3.5.4\"…), :little, true, Dict{Tuple{UInt16, UInt16}, String}((0x0010, 0x0010) => \"PN\", (0x0008, 0x0030) => \"TM\", (0x0028, 0x0100) => \"US\", (0x0020, 0x0052) => \"UI\", (0x0008, 0x1030) => \"LO\", (0x0020, 0x0037) => \"DS\", (0x0018, 0x5100) => \"CS\", (0x7fe0, 0x0000) => \"UL\", (0x0018, 0x0000) => \"UL\", (0x0008, 0x0000) => \"UL\"…))), (\"input/recon_2_10_evens_D_3Hz_low_0024.slice\", DICOM.DICOMData(Dict{Tuple{UInt16, UInt16}, Any}((0x0010, 0x0010) => [\"raw_2_10_evens_D_3Hz_low Users\", \"zhan7\", \"Desktop\"], (0x0008, 0x0030) => \"231340\", (0x0028, 0x0100) => 0x0010, (0x0020, 0x0052) => \"1.2.826.0.1.3680043.2.855.1674285220.1\", (0x0008, 0x1030) => \"DESCRIPTION\", (0x0002, 0x0001) => UInt8[0x00, 0x01], (0x0020, 0x0037) => [1.0, 0.0, 0.0, 0.0, 1.0, 0.0], (0x0018, 0x5100) => \"HFS\", (0x7fe0, 0x0000) => 0x00b2220c, (0x0002, 0x0012) => \"1.2.276.0.7230010.3.0.3.5.4\"…), :little, true, Dict{Tuple{UInt16, UInt16}, String}((0x0010, 0x0010) => \"PN\", (0x0008, 0x0030) => \"TM\", (0x0028, 0x0100) => \"US\", (0x0020, 0x0052) => \"UI\", (0x0008, 0x1030) => \"LO\", (0x0020, 0x0037) => \"DS\", (0x0018, 0x5100) => \"CS\", (0x7fe0, 0x0000) => \"UL\", (0x0018, 0x0000) => \"UL\", (0x0008, 0x0000) => \"UL\"…))), (\"input/recon_2_6_6mGy_high_0024.slice\", DICOM.DICOMData(Dict{Tuple{UInt16, UInt16}, Any}((0x0010, 0x0010) => [\"2_6_6mGy_high Users\", \"zhan7\", \"Desktop \"], (0x0008, 0x0030) => \"122346\", (0x0028, 0x0100) => 0x0010, (0x0020, 0x0052) => \"1.2.826.0.1.3680043.2.855.1674591826.1\", (0x0008, 0x1030) => \"DESCRIPTION\", (0x0002, 0x0001) => UInt8[0x00, 0x01], (0x0020, 0x0037) => [1.0, 0.0, 0.0, 0.0, 1.0, 0.0], (0x0018, 0x5100) => \"HFS\", (0x7fe0, 0x0000) => 0x00b2220c, (0x0002, 0x0012) => \"1.2.276.0.7230010.3.0.3.5.4\"…), :little, true, Dict{Tuple{UInt16, UInt16}, String}((0x0010, 0x0010) => \"PN\", (0x0008, 0x0030) => \"TM\", (0x0028, 0x0100) => \"US\", (0x0020, 0x0052) => \"UI\", (0x0008, 0x1030) => \"LO\", (0x0020, 0x0037) => \"DS\", (0x0018, 0x5100) => \"CS\", (0x7fe0, 0x0000) => \"UL\", (0x0018, 0x0000) => \"UL\", (0x0008, 0x0000) => \"UL\"…))), (\"input/recon_6mGy_helix_12_16_D_3Hz_high_0024.slice\", DICOM.DICOMData(Dict{Tuple{UInt16, UInt16}, Any}((0x0010, 0x0010) => [\"raw_6mGy_helix_12_16_D_3Hz_high Users\", \"zhan7\", \"Desktop \"], (0x0008, 0x0030) => \"131707\", (0x0028, 0x0100) => 0x0010, (0x0020, 0x0052) => \"1.2.826.0.1.3680043.2.855.1675891027.1\", (0x0008, 0x1030) => \"DESCRIPTION\", (0x0002, 0x0001) => UInt8[0x00, 0x01], (0x0020, 0x0037) => [1.0, 0.0, 0.0, 0.0, 1.0, 0.0], (0x0018, 0x5100) => \"HFS\", (0x7fe0, 0x0000) => 0x00b2220c, (0x0002, 0x0012) => \"1.2.276.0.7230010.3.0.3.5.4\"…), :little, true, Dict{Tuple{UInt16, UInt16}, String}((0x0010, 0x0010) => \"PN\", (0x0008, 0x0030) => \"TM\", (0x0028, 0x0100) => \"US\", (0x0020, 0x0052) => \"UI\", (0x0008, 0x1030) => \"LO\", (0x0020, 0x0037) => \"DS\", (0x0018, 0x5100) => \"CS\", (0x7fe0, 0x0000) => \"UL\", (0x0018, 0x0000) => \"UL\", (0x0008, 0x0000) => \"UL\"…))), (\"input/recon_6mGy_helix_12_16_D_3Hz_low_0024.slice\", DICOM.DICOMData(Dict{Tuple{UInt16, UInt16}, Any}((0x0010, 0x0010) => [\"raw_6mGy_helix_12_16_D_3Hz_low Users\", \"zhan7\", \"Desktop\"], (0x0008, 0x0030) => \"131728\", (0x0028, 0x0100) => 0x0010, (0x0020, 0x0052) => \"1.2.826.0.1.3680043.2.855.1675891048.1\", (0x0008, 0x1030) => \"DESCRIPTION\", (0x0002, 0x0001) => UInt8[0x00, 0x01], (0x0020, 0x0037) => [1.0, 0.0, 0.0, 0.0, 1.0, 0.0], (0x0018, 0x5100) => \"HFS\", (0x7fe0, 0x0000) => 0x00b2220c, (0x0002, 0x0012) => \"1.2.276.0.7230010.3.0.3.5.4\"…), :little, true, Dict{Tuple{UInt16, UInt16}, String}((0x0010, 0x0010) => \"PN\", (0x0008, 0x0030) => \"TM\", (0x0028, 0x0100) => \"US\", (0x0020, 0x0052) => \"UI\", (0x0008, 0x1030) => \"LO\", (0x0020, 0x0037) => \"DS\", (0x0018, 0x5100) => \"CS\", (0x7fe0, 0x0000) => \"UL\", (0x0018, 0x0000) => \"UL\", (0x0008, 0x0000) => \"UL\"…))), (\"input/recon_6mGy_helix_17_20_D_3Hz_high_0024.slice\", DICOM.DICOMData(Dict{Tuple{UInt16, UInt16}, Any}((0x0010, 0x0010) => [\"raw_6mGy_helix_17_20_D_3Hz_high Users\", \"zhan7\", \"Desktop \"], (0x0008, 0x0030) => \"131747\", (0x0028, 0x0100) => 0x0010, (0x0020, 0x0052) => \"1.2.826.0.1.3680043.2.855.1675891067.1\", (0x0008, 0x1030) => \"DESCRIPTION\", (0x0002, 0x0001) => UInt8[0x00, 0x01], (0x0020, 0x0037) => [1.0, 0.0, 0.0, 0.0, 1.0, 0.0], (0x0018, 0x5100) => \"HFS\", (0x7fe0, 0x0000) => 0x00b2220c, (0x0002, 0x0012) => \"1.2.276.0.7230010.3.0.3.5.4\"…), :little, true, Dict{Tuple{UInt16, UInt16}, String}((0x0010, 0x0010) => \"PN\", (0x0008, 0x0030) => \"TM\", (0x0028, 0x0100) => \"US\", (0x0020, 0x0052) => \"UI\", (0x0008, 0x1030) => \"LO\", (0x0020, 0x0037) => \"DS\", (0x0018, 0x5100) => \"CS\", (0x7fe0, 0x0000) => \"UL\", (0x0018, 0x0000) => \"UL\", (0x0008, 0x0000) => \"UL\"…))), (\"input/recon_6mGy_helix_17_20_D_3Hz_low_0024.slice\", DICOM.DICOMData(Dict{Tuple{UInt16, UInt16}, Any}((0x0010, 0x0010) => [\"raw_6mGy_helix_17_20_D_3Hz_low Users\", \"zhan7\", \"Desktop\"], (0x0008, 0x0030) => \"135112\", (0x0028, 0x0100) => 0x0010, (0x0020, 0x0052) => \"1.2.826.0.1.3680043.2.855.1675893072.1\", (0x0008, 0x1030) => \"DESCRIPTION\", (0x0002, 0x0001) => UInt8[0x00, 0x01], (0x0020, 0x0037) => [1.0, 0.0, 0.0, 0.0, 1.0, 0.0], (0x0018, 0x5100) => \"HFS\", (0x7fe0, 0x0000) => 0x00b2220c, (0x0002, 0x0012) => \"1.2.276.0.7230010.3.0.3.5.4\"…), :little, true, Dict{Tuple{UInt16, UInt16}, String}((0x0010, 0x0010) => \"PN\", (0x0008, 0x0030) => \"TM\", (0x0028, 0x0100) => \"US\", (0x0020, 0x0052) => \"UI\", (0x0008, 0x1030) => \"LO\", (0x0020, 0x0037) => \"DS\", (0x0018, 0x5100) => \"CS\", (0x7fe0, 0x0000) => \"UL\", (0x0018, 0x0000) => \"UL\", (0x0008, 0x0000) => \"UL\"…))), (\"input/recon_6mGy_helix_2_6_D_3Hz_high_0024.slice\", DICOM.DICOMData(Dict{Tuple{UInt16, UInt16}, Any}((0x0010, 0x0010) => [\"raw_6mGy_helix_2_6_D_3Hz_high Users\", \"zhan7\", \"Desktop \"], (0x0008, 0x0030) => \"131521\", (0x0028, 0x0100) => 0x0010, (0x0020, 0x0052) => \"1.2.826.0.1.3680043.2.855.1675890921.1\", (0x0008, 0x1030) => \"DESCRIPTION\", (0x0002, 0x0001) => UInt8[0x00, 0x01], (0x0020, 0x0037) => [1.0, 0.0, 0.0, 0.0, 1.0, 0.0], (0x0018, 0x5100) => \"HFS\", (0x7fe0, 0x0000) => 0x00b2220c, (0x0002, 0x0012) => \"1.2.276.0.7230010.3.0.3.5.4\"…), :little, true, Dict{Tuple{UInt16, UInt16}, String}((0x0010, 0x0010) => \"PN\", (0x0008, 0x0030) => \"TM\", (0x0028, 0x0100) => \"US\", (0x0020, 0x0052) => \"UI\", (0x0008, 0x1030) => \"LO\", (0x0020, 0x0037) => \"DS\", (0x0018, 0x5100) => \"CS\", (0x7fe0, 0x0000) => \"UL\", (0x0018, 0x0000) => \"UL\", (0x0008, 0x0000) => \"UL\"…))), (\"input/recon_6mGy_helix_2_6_D_3Hz_low_0024.slice\", DICOM.DICOMData(Dict{Tuple{UInt16, UInt16}, Any}((0x0010, 0x0010) => [\"raw_6mGy_helix_2_6_D_3Hz_low Users\", \"zhan7\", \"Desktop\"], (0x0008, 0x0030) => \"131555\", (0x0028, 0x0100) => 0x0010, (0x0020, 0x0052) => \"1.2.826.0.1.3680043.2.855.1675890955.1\", (0x0008, 0x1030) => \"DESCRIPTION\", (0x0002, 0x0001) => UInt8[0x00, 0x01], (0x0020, 0x0037) => [1.0, 0.0, 0.0, 0.0, 1.0, 0.0], (0x0018, 0x5100) => \"HFS\", (0x7fe0, 0x0000) => 0x00b2220c, (0x0002, 0x0012) => \"1.2.276.0.7230010.3.0.3.5.4\"…), :little, true, Dict{Tuple{UInt16, UInt16}, String}((0x0010, 0x0010) => \"PN\", (0x0008, 0x0030) => \"TM\", (0x0028, 0x0100) => \"US\", (0x0020, 0x0052) => \"UI\", (0x0008, 0x1030) => \"LO\", (0x0020, 0x0037) => \"DS\", (0x0018, 0x5100) => \"CS\", (0x7fe0, 0x0000) => \"UL\", (0x0018, 0x0000) => \"UL\", (0x0008, 0x0000) => \"UL\"…))), (\"input/recon_6mGy_helix_7_11_D_3Hz_high_0024.slice\", DICOM.DICOMData(Dict{Tuple{UInt16, UInt16}, Any}((0x0010, 0x0010) => [\"raw_6mGy_helix_7_11_D_3Hz_high Users\", \"zhan7\", \"Desktop\"], (0x0008, 0x0030) => \"131623\", (0x0028, 0x0100) => 0x0010, (0x0020, 0x0052) => \"1.2.826.0.1.3680043.2.855.1675890983.1\", (0x0008, 0x1030) => \"DESCRIPTION\", (0x0002, 0x0001) => UInt8[0x00, 0x01], (0x0020, 0x0037) => [1.0, 0.0, 0.0, 0.0, 1.0, 0.0], (0x0018, 0x5100) => \"HFS\", (0x7fe0, 0x0000) => 0x00b2220c, (0x0002, 0x0012) => \"1.2.276.0.7230010.3.0.3.5.4\"…), :little, true, Dict{Tuple{UInt16, UInt16}, String}((0x0010, 0x0010) => \"PN\", (0x0008, 0x0030) => \"TM\", (0x0028, 0x0100) => \"US\", (0x0020, 0x0052) => \"UI\", (0x0008, 0x1030) => \"LO\", (0x0020, 0x0037) => \"DS\", (0x0018, 0x5100) => \"CS\", (0x7fe0, 0x0000) => \"UL\", (0x0018, 0x0000) => \"UL\", (0x0008, 0x0000) => \"UL\"…))), (\"input/recon_6mGy_helix_7_11_D_3Hz_low_0024.slice\", DICOM.DICOMData(Dict{Tuple{UInt16, UInt16}, Any}((0x0010, 0x0010) => [\"raw_6mGy_helix_7_11_D_3Hz_low Users\", \"zhan7\", \"Desktop \"], (0x0008, 0x0030) => \"131642\", (0x0028, 0x0100) => 0x0010, (0x0020, 0x0052) => \"1.2.826.0.1.3680043.2.855.1675891002.1\", (0x0008, 0x1030) => \"DESCRIPTION\", (0x0002, 0x0001) => UInt8[0x00, 0x01], (0x0020, 0x0037) => [1.0, 0.0, 0.0, 0.0, 1.0, 0.0], (0x0018, 0x5100) => \"HFS\", (0x7fe0, 0x0000) => 0x00b2220c, (0x0002, 0x0012) => \"1.2.276.0.7230010.3.0.3.5.4\"…), :little, true, Dict{Tuple{UInt16, UInt16}, String}((0x0010, 0x0010) => \"PN\", (0x0008, 0x0030) => \"TM\", (0x0028, 0x0100) => \"US\", (0x0020, 0x0052) => \"UI\", (0x0008, 0x1030) => \"LO\", (0x0020, 0x0037) => \"DS\", (0x0018, 0x5100) => \"CS\", (0x7fe0, 0x0000) => \"UL\", (0x0018, 0x0000) => \"UL\", (0x0008, 0x0000) => \"UL\"…))), (\"input/recon_8cm_3_11_odd_high_6mgy_15slices.slice\", DICOM.DICOMData(Dict{Tuple{UInt16, UInt16}, Any}((0x0010, 0x0010) => [\"raw_crop_small_cup8cm_3_11_odd_high_6mgy Users\", \"zhan7\", \"Desktop\"], (0x0008, 0x0030) => \"181257\", (0x0028, 0x0100) => 0x0010, (0x0020, 0x0052) => \"1.2.826.0.1.3680043.2.855.1674785577.1\", (0x0008, 0x1030) => \"DESCRIPTION\", (0x0002, 0x0001) => UInt8[0x00, 0x01], (0x0020, 0x0037) => [1.0, 0.0, 0.0, 0.0, 1.0, 0.0], (0x0018, 0x5100) => \"HFS\", (0x7fe0, 0x0000) => 0x00b2220c, (0x0002, 0x0012) => \"1.2.276.0.7230010.3.0.3.5.4\"…), :little, true, Dict{Tuple{UInt16, UInt16}, String}((0x0010, 0x0010) => \"PN\", (0x0008, 0x0030) => \"TM\", (0x0028, 0x0100) => \"US\", (0x0020, 0x0052) => \"UI\", (0x0008, 0x1030) => \"LO\", (0x0020, 0x0037) => \"DS\", (0x0018, 0x5100) => \"CS\", (0x7fe0, 0x0000) => \"UL\", (0x0018, 0x0000) => \"UL\", (0x0008, 0x0000) => \"UL\"…)))])"
      ]
     },
     "metadata": {},
     "output_type": "display_data"
    }
   ],
   "source": [
    "run!()"
   ]
  }
 ],
 "metadata": {
  "kernelspec": {
   "display_name": "Julia 1.8.5",
   "language": "julia",
   "name": "julia-1.8"
  },
  "language_info": {
   "file_extension": ".jl",
   "mimetype": "application/julia",
   "name": "julia",
   "version": "1.8.5"
  },
  "orig_nbformat": 4
 },
 "nbformat": 4,
 "nbformat_minor": 2
}
