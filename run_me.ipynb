{
 "cells": [
  {
   "cell_type": "code",
   "execution_count": 13,
   "metadata": {},
   "outputs": [
    {
     "name": "stderr",
     "output_type": "stream",
     "text": [
      "\u001b[32m\u001b[1m  Activating\u001b[22m\u001b[39m project at `~/Desktop/Ct correction`\n"
     ]
    },
    {
     "name": "stdout",
     "output_type": "stream",
     "text": [
      "\t*** Insturction ***\n",
      "\t\n",
      "\t1. Put images to the `input` folder;\n",
      "\t2. Call `run!()`.\n",
      "\t\n",
      "\tResutls are saved to `output` folder.\n"
     ]
    }
   ],
   "source": [
    "include(\"generate_mask_core.jl\") # DO NOT MODIFY"
   ]
  },
  {
   "cell_type": "code",
   "execution_count": 14,
   "metadata": {},
   "outputs": [
    {
     "name": "stdout",
     "output_type": "stream",
     "text": [
      "Started...\n"
     ]
    },
    {
     "name": "stdout",
     "output_type": "stream",
     "text": [
      "\tFound 16 images...\n"
     ]
    },
    {
     "name": "stderr",
     "output_type": "stream",
     "text": [
      "\r0.0%┣                                               ┫ 0/16 [00:00<00:-1, -0s/it]\n",
      "\u001b[1A\r0.0%┣                                               ┫ 0/16 [00:00<00:-1, -0s/it]\n",
      "\u001b[1A\r0.0%┣                                               ┫ 0/16 [00:00<00:-1, -0s/it]\n",
      "\u001b[1A\r6.2%┣██▊                                        ┫ 1/16 [00:00<Inf:Inf, InfGs/it]\n",
      "\u001b[1A\r0.0%┣                                               ┫ 0/16 [00:00<00:-1, -0s/it]\n"
     ]
    },
    {
     "name": "stderr",
     "output_type": "stream",
     "text": [
      "\u001b[1A\r18.8%┣████████▋                                     ┫ 3/16 [00:26<02:47, 13s/it]\n"
     ]
    },
    {
     "name": "stderr",
     "output_type": "stream",
     "text": [
      "\u001b[1A\r43.8%┣████████████████████▋                          ┫ 7/16 [00:39<00:59, 7s/it]\n"
     ]
    },
    {
     "name": "stderr",
     "output_type": "stream",
     "text": [
      "\u001b[1A\r50.0%┣███████████████████████▌                       ┫ 8/16 [00:40<00:46, 6s/it]\n"
     ]
    },
    {
     "name": "stderr",
     "output_type": "stream",
     "text": [
      "\u001b[1A\r68.8%┣███████████████████████████████▋              ┫ 11/16 [00:55<00:27, 5s/it]\n"
     ]
    },
    {
     "name": "stdout",
     "output_type": "stream",
     "text": [
      "Finished processing 16 images. 0 Failed.\n"
     ]
    }
   ],
   "source": [
    "run!()"
   ]
  }
 ],
 "metadata": {
  "kernelspec": {
   "display_name": "Julia 1.8.5",
   "language": "julia",
   "name": "julia-1.8"
  },
  "language_info": {
   "file_extension": ".jl",
   "mimetype": "application/julia",
   "name": "julia",
   "version": "1.8.5"
  },
  "orig_nbformat": 4
 },
 "nbformat": 4,
 "nbformat_minor": 2
}
